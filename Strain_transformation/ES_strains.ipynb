{
  "nbformat": 4,
  "nbformat_minor": 0,
  "metadata": {
    "colab": {
      "provenance": []
    },
    "kernelspec": {
      "name": "python3",
      "display_name": "Python 3"
    },
    "language_info": {
      "name": "python"
    }
  },
  "cells": [
    {
      "cell_type": "code",
      "source": [
        "%reset"
      ],
      "metadata": {
        "colab": {
          "base_uri": "https://localhost:8080/"
        },
        "id": "axJZ84TXp71j",
        "outputId": "541a4aad-b920-4231-dd85-daa33af0bd94"
      },
      "execution_count": null,
      "outputs": [
        {
          "name": "stdout",
          "output_type": "stream",
          "text": [
            "Once deleted, variables cannot be recovered. Proceed (y/[n])? y\n"
          ]
        }
      ]
    },
    {
      "cell_type": "code",
      "source": [
        "import os, sys\n",
        "import numpy as np\n",
        "import copy\n",
        "import csv\n",
        "import scipy.interpolate as itp\n",
        "import math\n",
        "import pandas as pd\n"
      ],
      "metadata": {
        "id": "ywKBWqhfjla-"
      },
      "execution_count": null,
      "outputs": []
    },
    {
      "cell_type": "code",
      "source": [
        "elem_file = \"elems.txt\"\n",
        "elem_con = []\n",
        "with open(elem_file) as nfile:\n",
        "    for line in nfile:\n",
        "        data = line.strip('\\n').split(', ')\n",
        "        elem_con.append([int(data[0]), int(data[1]), int(data[2]), int(data[3]), int(data[4]), int(data[5]), int(data[6]), int(data[7]), int(data[8]), int(data[9]), int(data[10])])\n",
        "\n",
        "nodes_file = \"nodes.txt\"\n",
        "node_loc = []\n",
        "with open(nodes_file) as nfile:\n",
        "    for line in nfile:\n",
        "        data = line.strip('\\n').split(',')  # sometimes you have to put space after comma\n",
        "        node_loc.append([int(data[0]), float(data[1]), float(data[2]), float(data[3])])\n",
        "\n",
        "set_file = \"segmentElemSet.txt\"\n",
        "for n in range(1,6): # Number of loop to run\n",
        "    globals()['slice%s_elems' % n] = []\n",
        "    with open(set_file) as sfile:\n",
        "        line = 'start'\n",
        "        while line != '':\n",
        "            line = sfile.readline()\n",
        "            if (\"slice%s\"%n) in line:\n",
        "                line = sfile.readline()\n",
        "                while \"*\" not in line:\n",
        "                    aa=(line.strip().split(','))\n",
        "                    globals()['slice%s_elems' % n].append(aa)\n",
        "                    line = sfile.readline()\n",
        "                break\n",
        "    globals()['slice%s_elems' % n] = [item for sublist in globals()['slice%s_elems' % n] for item in sublist]\n",
        "    globals()['slice%s_elems' % n] = [item for item in globals()['slice%s_elems' % n] if item != '']\n",
        "    globals()['slice%s_elems' % n] = [int(item) for item in globals()['slice%s_elems' % n]]"
      ],
      "metadata": {
        "id": "WJU3bax-jsJF"
      },
      "execution_count": null,
      "outputs": []
    },
    {
      "cell_type": "code",
      "source": [
        "# reading axes from orientation files\n",
        "CRL_file = \"CRL-1.txt\"\n",
        "CRL_axes = []\n",
        "with open(CRL_file) as nfile:\n",
        "    for line in nfile:\n",
        "        data = line.strip('\\n').split(',')\n",
        "        CRL_axes.append([float(data[0]), float(data[1]), float(data[2]), float(data[3]), float(data[4]), float(data[5]), float(data[6]), float(data[7]), float(data[8]), float(data[9])])\n",
        "CRL_axes = np.array(CRL_axes)\n",
        "\n",
        "FNS_file = \"FNS-1.txt\"   # See text file of FNS, first coulmn is repeating\n",
        "FNS_axes = []\n",
        "with open(FNS_file) as nfile:\n",
        "    for line in nfile:\n",
        "        data = line.strip('\\n').split(',')\n",
        "        FNS_axes.append([float(data[0]), float(data[1]), float(data[2]), float(data[3]), float(data[4]), float(data[5]), float(data[6]), float(data[7]), float(data[8]), float(data[9])])\n",
        "FNS_axes = np.array(FNS_axes)\n"
      ],
      "metadata": {
        "id": "RmK185_2jwIF"
      },
      "execution_count": null,
      "outputs": []
    },
    {
      "cell_type": "code",
      "source": [
        "# Time incerement from abaqus sta file\n",
        "time = [0]\n",
        "line_no = 0\n",
        "\n",
        "with open(\"PVloop-total-1.sta\",'r') as sta_file:\n",
        "    for line in sta_file:\n",
        "        line_no += 1\n",
        "        if line_no >= 6:\n",
        "            try:\n",
        "                data = line.split()\n",
        "                if 'U' not in data[2]:\n",
        "                    time.append(data[6])\n",
        "            except:\n",
        "                break\n",
        "\n",
        "time = [float(item) for item in time]\n",
        "\n",
        "data = {'numbers': time}\n",
        "df = pd.DataFrame(data)\n",
        "\n",
        "# find the closest number to a given value\n",
        "given_value = 1.43          # End systole\n",
        "idx_closest = (df['numbers']-given_value).abs().argsort()[0]\n"
      ],
      "metadata": {
        "id": "5cDojUWpK-rR"
      },
      "execution_count": null,
      "outputs": []
    },
    {
      "cell_type": "code",
      "source": [
        "examp = 1\n",
        "dat_file =  \"PVloop-total-\" + str(examp) +\".dat\"\n",
        "for m in range(1,6):\n",
        "  # Find average polar strains on slice 1:\n",
        "  marker = 0\n",
        "  marks = []\n",
        "\n",
        "  (globals()['slice%s_pt_strains_polar_C' % m]) = []\n",
        "  (globals()['slice%s_pt_strains_polar_R' % m]) = []\n",
        "  (globals()['slice%s_pt_strains_polar_L' % m]) = []\n",
        "\n",
        "  (globals()['slice%s_pt_strains_polar_F' % m]) = []\n",
        "  (globals()['slice%s_pt_strains_polar_N' % m]) = []\n",
        "  (globals()['slice%s_pt_strains_polar_S' % m]) = []\n",
        "\n",
        "  globals()['NElem_slice%s'%m] = len(globals()['slice%s_elems' % m]);\n",
        "\n",
        "  with open(dat_file) as dfile:\n",
        "      for line in dfile:\n",
        "          marker += 1\n",
        "          if (\"SET SLICE%s\"%m) in line:\n",
        "              marks.append(marker)\n",
        "\n",
        "\n",
        "  Q = np.zeros((3,3))\n",
        "  for mark in marks:\n",
        "      # read strains from last increment\n",
        "      slice_elem_strains_polar = np.zeros([1,4])\n",
        "      slice_elem_strains_polar_FNS = np.zeros([1,4])\n",
        "\n",
        "      with open(dat_file) as dfile:\n",
        "          for i in range(0,mark+4):\n",
        "              dfile.readline()\n",
        "          for n in range(0, globals()['NElem_slice%s'%m]):\n",
        "              line = dfile.readline()\n",
        "              data = line.split()\n",
        "\n",
        "              strain = [[float(data[2]), float(data[5]), float(data[6])],\n",
        "              [float(data[5]), float(data[3]), float(data[7])],\n",
        "              [float(data[6]), float(data[7]), float(data[4])]]\n",
        "\n",
        "              # fiber\n",
        "              Q[0][0] = np.dot(FNS_axes[n,1:4], CRL_axes[n,1:4])\n",
        "              Q[0][1] = np.dot(FNS_axes[n,1:4], CRL_axes[n,4:7])\n",
        "              Q[0][2] = np.dot(FNS_axes[n,1:4], CRL_axes[n,7:10])\n",
        "\n",
        "              # normal\n",
        "              Q[1][0] = np.dot(FNS_axes[n,4:7], CRL_axes[n,1:4])\n",
        "              Q[1][1] = np.dot(FNS_axes[n,4:7], CRL_axes[n,4:7])\n",
        "              Q[1][2] = np.dot(FNS_axes[n,4:7], CRL_axes[n,7:10])\n",
        "\n",
        "              # sheet\n",
        "              Q[2][0] = np.dot(FNS_axes[n,7:10], CRL_axes[n,1:4])\n",
        "              Q[2][1] = np.dot(FNS_axes[n,7:10], CRL_axes[n,4:7])\n",
        "              Q[2][2] = np.dot(FNS_axes[n,7:10], CRL_axes[n,7:10])\n",
        "\n",
        "\n",
        "              strain_tran1 = np.matmul(np.transpose(Q), strain)\n",
        "              strain_tran = np.matmul(strain_tran1,Q)\n",
        "\n",
        "\n",
        "              slice_elem_strains_polar = np.append(slice_elem_strains_polar,[[int(data[0]), float(strain_tran[0][0]), float(strain_tran[1][1]), float(strain_tran[2][2])]], axis=0)\n",
        "              slice_elem_strains_polar_FNS = np.append(slice_elem_strains_polar_FNS,[[int(data[0]), float(data[2]), float(data[3]), float(data[4])]], axis=0)\n",
        "\n",
        "      (globals()['slice%s_pt_strains_polar_C' % m]).append(slice_elem_strains_polar[1:,1])\n",
        "      (globals()['slice%s_pt_strains_polar_R' % m]).append(slice_elem_strains_polar[1:,2])\n",
        "      (globals()['slice%s_pt_strains_polar_L' % m]).append(slice_elem_strains_polar[1:,3])\n",
        "\n",
        "      (globals()['slice%s_pt_strains_polar_F' % m]).append(slice_elem_strains_polar_FNS[1:,1])\n",
        "      (globals()['slice%s_pt_strains_polar_N' % m]).append(slice_elem_strains_polar_FNS[1:,2])\n",
        "      (globals()['slice%s_pt_strains_polar_S' % m]).append(slice_elem_strains_polar_FNS[1:,3])\n",
        "\n",
        "      # create dataframes from the lists\n",
        "      df1 = pd.DataFrame((globals()['slice%s_pt_strains_polar_C' % m])).T\n",
        "      df2 = pd.DataFrame((globals()['slice%s_pt_strains_polar_R' % m])).T\n",
        "      df3 = pd.DataFrame((globals()['slice%s_pt_strains_polar_L' % m])).T\n",
        "\n",
        "      df4 = pd.DataFrame((globals()['slice%s_pt_strains_polar_F' % m])).T\n",
        "      df5 = pd.DataFrame((globals()['slice%s_pt_strains_polar_N' % m])).T\n",
        "      df6 = pd.DataFrame((globals()['slice%s_pt_strains_polar_S' % m])).T\n",
        "\n",
        "      # create the output file name\n",
        "      output_file_name = f\"examp{examp}_slice_{m}.xlsx\"\n",
        "      # output_file_name = f\"slice{m}.xlsx\"\n",
        "\n",
        "      # create an Excel writer object\n",
        "      with pd.ExcelWriter(output_file_name) as writer:\n",
        "\n",
        "      # create an Excel writer object\n",
        "      # with pd.ExcelWriter('output%s.xlsx'%m) as writer:\n",
        "          df1.to_excel(writer, sheet_name='Circum', index=False, header=False)\n",
        "          df2.to_excel(writer, sheet_name='Radial', index=False, header=False)\n",
        "          df3.to_excel(writer, sheet_name='Longit', index=False, header=False)\n",
        "          df4.to_excel(writer, sheet_name='fiber', index=False, header=False)\n",
        "          df5.to_excel(writer, sheet_name='normal', index=False, header=False)\n",
        "          df6.to_excel(writer, sheet_name='sheet', index=False, header=False)\n",
        "\n",
        "  data = {'Circum': (globals()['slice%s_pt_strains_polar_C' % m])[idx_closest],\n",
        "          'Radial': (globals()['slice%s_pt_strains_polar_R' % m])[idx_closest],\n",
        "          'Longit': (globals()['slice%s_pt_strains_polar_L' % m])[idx_closest],\n",
        "          'fiber': (globals()['slice%s_pt_strains_polar_F' % m])[idx_closest],\n",
        "          'normal': (globals()['slice%s_pt_strains_polar_N' % m])[idx_closest],\n",
        "          'sheet': (globals()['slice%s_pt_strains_polar_S' % m])[idx_closest]}\n",
        "\n",
        "  # create a Pandas dataframe from the dictionary for this iteration\n",
        "  df = pd.DataFrame(data)\n",
        "\n",
        "  # create the output file name\n",
        "  output_file_name = f\"examp_ES_CRLFNS_{examp}.xlsx\"\n",
        "\n",
        "  # check if the file exists before opening it in append mode\n",
        "  if os.path.isfile(output_file_name):\n",
        "      mode = 'a'\n",
        "  else:\n",
        "      mode = 'w'\n",
        "  # create an Excel writer object\n",
        "  with pd.ExcelWriter(output_file_name, mode=mode) as writer:\n",
        "\n",
        "  # create an Excel writer object\n",
        "      sheet_name = f'Slice{m}'\n",
        "      df.to_excel(writer, sheet_name=sheet_name, index=False)\n"
      ],
      "metadata": {
        "id": "2S8iQSBDjwE3"
      },
      "execution_count": null,
      "outputs": []
    }
  ]
}