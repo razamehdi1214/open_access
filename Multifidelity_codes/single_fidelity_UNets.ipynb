{
  "cells": [
    {
      "cell_type": "code",
      "execution_count": null,
      "metadata": {
        "colab": {
          "base_uri": "https://localhost:8080/"
        },
        "id": "31484cab",
        "outputId": "3b765777-dbb5-40de-d5db-9612bda327fb"
      },
      "outputs": [
        {
          "name": "stdout",
          "output_type": "stream",
          "text": [
            "Once deleted, variables cannot be recovered. Proceed (y/[n])? y\n"
          ]
        }
      ],
      "source": [
        "%reset"
      ]
    },
    {
      "cell_type": "code",
      "execution_count": 1,
      "metadata": {
        "id": "f439b6d0",
        "scrolled": true
      },
      "outputs": [],
      "source": [
        "import tensorflow as tf\n",
        "import numpy as np\n",
        "\n",
        "from tensorflow.keras.layers import Input\n",
        "from tensorflow.keras.layers import Conv2D\n",
        "from tensorflow.keras.layers import MaxPooling2D\n",
        "from tensorflow.keras.layers import Dropout\n",
        "from tensorflow.keras.layers import Conv2DTranspose\n",
        "from tensorflow.keras.layers import concatenate\n",
        "\n",
        "import os\n",
        "import imageio\n",
        "import matplotlib.pyplot as plt\n",
        "import re\n",
        "from PIL import Image\n",
        "import shutil\n",
        "\n",
        "from skimage.transform import resize\n",
        "from sklearn.model_selection import train_test_split\n",
        "\n",
        "import random\n",
        "from tqdm import tqdm\n",
        "\n",
        "from skimage.io import imread, imshow"
      ]
    },
    {
      "cell_type": "code",
      "source": [
        "##### loading low fidelity training data ######\n",
        "x_train = np.load(\"x_train.npy\")\n",
        "y_train = np.load(\"y_train.npy\")\n",
        "\n",
        "#### loading low fidelity testing data ######\n",
        "x_test = np.load(\"x_test.npy\")\n",
        "y_test = np.load(\"y_test.npy\")"
      ],
      "metadata": {
        "id": "2Na-dEkK01gQ"
      },
      "execution_count": 2,
      "outputs": []
    },
    {
      "cell_type": "code",
      "execution_count": null,
      "metadata": {
        "id": "2ZR_gkSaQhG2"
      },
      "outputs": [],
      "source": [
        "print(x_train.shape)\n",
        "print(y_train.shape)\n",
        "print(x_test.shape)\n",
        "print(y_test.shape)"
      ]
    },
    {
      "cell_type": "code",
      "execution_count": null,
      "metadata": {
        "id": "DVLwyQVoOO16"
      },
      "outputs": [],
      "source": [
        "import tensorflow as tf\n",
        "from tensorflow.keras.layers import Input, Lambda, Conv2D, BatchNormalization, Dropout, MaxPooling2D, Conv2DTranspose, concatenate\n",
        "from tensorflow.keras.models import Model\n",
        "\n",
        "seed = 42\n",
        "np.random.seed = seed\n",
        "\n",
        "IMG_WIDTH = 128\n",
        "IMG_HEIGHT = 128\n",
        "IMG_CHANNELS = 3\n",
        "\n",
        "def dice_coefficient(y_true, y_pred, smooth=1e-6):\n",
        "    y_true = tf.cast(y_true, tf.float32)\n",
        "    y_pred = tf.cast(y_pred, tf.float32)\n",
        "\n",
        "    intersection = tf.reduce_sum(y_true * y_pred)\n",
        "    union = tf.reduce_sum(y_true) + tf.reduce_sum(y_pred)\n",
        "    dice = (2.0 * intersection + smooth) / (union + smooth)\n",
        "    return dice\n",
        "\n",
        "\n",
        "#Build the UNet model\n",
        "inputs = tf.keras.layers.Input((IMG_HEIGHT, IMG_WIDTH, IMG_CHANNELS))\n",
        "s = tf.keras.layers.Lambda(lambda x: x / 255)(inputs)\n",
        "\n",
        "#Contraction path\n",
        "c1 = tf.keras.layers.Conv2D(16, (3, 3), activation='relu', kernel_initializer='he_normal', padding='same')(s)\n",
        "c1 = tf.keras.layers.Dropout(0.1)(c1)\n",
        "c1 = tf.keras.layers.Conv2D(16, (3, 3), activation='relu', kernel_initializer='he_normal', padding='same')(c1)\n",
        "p1 = tf.keras.layers.MaxPooling2D((2, 2))(c1)\n",
        "\n",
        "c2 = tf.keras.layers.Conv2D(32, (3, 3), activation='relu', kernel_initializer='he_normal', padding='same')(p1)\n",
        "c2 = tf.keras.layers.Dropout(0.1)(c2)\n",
        "c2 = tf.keras.layers.Conv2D(32, (3, 3), activation='relu', kernel_initializer='he_normal', padding='same')(c2)\n",
        "p2 = tf.keras.layers.MaxPooling2D((2, 2))(c2)\n",
        "\n",
        "c3 = tf.keras.layers.Conv2D(64, (3, 3), activation='relu', kernel_initializer='he_normal', padding='same')(p2)\n",
        "c3 = tf.keras.layers.Dropout(0.2)(c3)\n",
        "c3 = tf.keras.layers.Conv2D(64, (3, 3), activation='relu', kernel_initializer='he_normal', padding='same')(c3)\n",
        "p3 = tf.keras.layers.MaxPooling2D((2, 2))(c3)\n",
        "\n",
        "c4 = tf.keras.layers.Conv2D(128, (3, 3), activation='relu', kernel_initializer='he_normal', padding='same')(p3)\n",
        "c4 = tf.keras.layers.Dropout(0.2)(c4)\n",
        "c4 = tf.keras.layers.Conv2D(128, (3, 3), activation='relu', kernel_initializer='he_normal', padding='same')(c4)\n",
        "p4 = tf.keras.layers.MaxPooling2D(pool_size=(2, 2))(c4)\n",
        "\n",
        "c5 = tf.keras.layers.Conv2D(256, (3, 3), activation='relu', kernel_initializer='he_normal', padding='same')(p4)\n",
        "c5 = tf.keras.layers.Dropout(0.3)(c5)\n",
        "c5 = tf.keras.layers.Conv2D(256, (3, 3), activation='relu', kernel_initializer='he_normal', padding='same')(c5)\n",
        "\n",
        "#Expansive path\n",
        "u6 = tf.keras.layers.Conv2DTranspose(128, (2, 2), strides=(2, 2), padding='same')(c5)\n",
        "u6 = tf.keras.layers.concatenate([u6, c4])\n",
        "c6 = tf.keras.layers.Conv2D(128, (3, 3), activation='relu', kernel_initializer='he_normal', padding='same')(u6)\n",
        "c6 = tf.keras.layers.Dropout(0.2)(c6)\n",
        "c6 = tf.keras.layers.Conv2D(128, (3, 3), activation='relu', kernel_initializer='he_normal', padding='same')(c6)\n",
        "\n",
        "u7 = tf.keras.layers.Conv2DTranspose(64, (2, 2), strides=(2, 2), padding='same')(c6)\n",
        "u7 = tf.keras.layers.concatenate([u7, c3])\n",
        "c7 = tf.keras.layers.Conv2D(64, (3, 3), activation='relu', kernel_initializer='he_normal', padding='same')(u7)\n",
        "c7 = tf.keras.layers.Dropout(0.2)(c7)\n",
        "c7 = tf.keras.layers.Conv2D(64, (3, 3), activation='relu', kernel_initializer='he_normal', padding='same')(c7)\n",
        "\n",
        "u8 = tf.keras.layers.Conv2DTranspose(32, (2, 2), strides=(2, 2), padding='same')(c7)\n",
        "u8 = tf.keras.layers.concatenate([u8, c2])\n",
        "c8 = tf.keras.layers.Conv2D(32, (3, 3), activation='relu', kernel_initializer='he_normal', padding='same')(u8)\n",
        "c8 = tf.keras.layers.Dropout(0.1)(c8)\n",
        "c8 = tf.keras.layers.Conv2D(32, (3, 3), activation='relu', kernel_initializer='he_normal', padding='same')(c8)\n",
        "\n",
        "u9 = tf.keras.layers.Conv2DTranspose(16, (2, 2), strides=(2, 2), padding='same')(c8)\n",
        "u9 = tf.keras.layers.concatenate([u9, c1], axis=3)\n",
        "c9 = tf.keras.layers.Conv2D(16, (3, 3), activation='relu', kernel_initializer='he_normal', padding='same')(u9)\n",
        "c9 = tf.keras.layers.Dropout(0.1)(c9)\n",
        "c9 = tf.keras.layers.Conv2D(16, (3, 3), activation='relu', kernel_initializer='he_normal', padding='same')(c9)\n",
        "\n",
        "outputs = tf.keras.layers.Conv2D(1, (1, 1), activation='sigmoid')(c9)\n",
        "\n",
        "\n",
        "# Compile the model with masked losses and metrics\n",
        "\n",
        "model = Model(inputs=[inputs], outputs=[outputs])\n",
        "model.compile(optimizer='adam', loss='binary_crossentropy', metrics=[dice_coefficient])\n",
        "\n",
        "model.summary()\n",
        "\n",
        "\n"
      ]
    },
    {
      "cell_type": "code",
      "execution_count": null,
      "metadata": {
        "id": "a4l0-PqAP3m7"
      },
      "outputs": [],
      "source": [
        "import tensorflow as tf\n",
        "from tensorflow.keras.callbacks import ModelCheckpoint, EarlyStopping, TensorBoard\n",
        "from datetime import datetime\n",
        "import os\n",
        "\n",
        "# Define the path to save model checkpoints\n",
        "model_checkpoint_path = \"model_checkpoints\"\n",
        "os.makedirs(model_checkpoint_path, exist_ok=True)\n",
        "\n",
        "# Define the path to save TensorBoard logs\n",
        "log_dir = \"logs/\" + datetime.now().strftime(\"%Y%m%d-%H%M%S\")\n",
        "os.makedirs(log_dir, exist_ok=True)\n",
        "\n",
        "# Callback 1: ModelCheckpoint\n",
        "# Save the model's weights after every epoch if the validation loss improves.\n",
        "model_checkpoint = ModelCheckpoint(\n",
        "    filepath=os.path.join(model_checkpoint_path, \"model_weights.weights.h5\"),\n",
        "    monitor=\"val_loss\",\n",
        "    save_best_only=True,\n",
        "    save_weights_only=True,\n",
        "    verbose=1\n",
        ")\n",
        "\n",
        "# Callback 2: TensorBoard\n",
        "# Save training logs for visualization in TensorBoard.\n",
        "tensorboard = TensorBoard(\n",
        "    log_dir=log_dir,\n",
        "    histogram_freq=1,\n",
        "    write_graph=True,\n",
        "    write_images=True\n",
        ")\n",
        "\n",
        "# List of essential callbacks\n",
        "callbacks = [\n",
        "    model_checkpoint,\n",
        "    # early_stopping,\n",
        "    tensorboard\n",
        "]\n",
        "\n",
        "# Now, use the callbacks when training your model\n",
        "results = model.fit(x_train, y_train, validation_split=0.2, batch_size=128, epochs=100, callbacks=callbacks)"
      ]
    },
    {
      "cell_type": "code",
      "source": [
        "# Load model weights and make predictions\n",
        "model.load_weights('model_weights.weights.h5')\n",
        "preds_test = model.predict(x_test, verbose=1)\n",
        "preds_test_t = (preds_test > 0.75).astype(np.uint8)\n",
        "\n",
        "# Define the circular mask function\n",
        "def create_circular_mask(height, width, radius=63):\n",
        "    center = (int(height / 2), int(width / 2))\n",
        "    Y, X = np.ogrid[:height, :width]\n",
        "    dist_from_center = np.sqrt((X - center[1]) ** 2 + (Y - center[0]) ** 2)\n",
        "    mask = dist_from_center <= radius\n",
        "    return mask.astype(np.float32)\n",
        "\n",
        "# Generate the circular mask for 128x128 images\n",
        "IMG_HEIGHT, IMG_WIDTH = 128, 128\n",
        "circular_mask = create_circular_mask(IMG_HEIGHT, IMG_WIDTH)\n",
        "circular_mask = tf.convert_to_tensor(circular_mask, dtype=tf.float32)\n",
        "\n",
        "# Define the Dice score function\n",
        "def dice_score(masked_y_true, masked_y_pred, smooth=1e-6):\n",
        "    intersection = tf.reduce_sum(masked_y_true * masked_y_pred)\n",
        "    union = tf.reduce_sum(masked_y_true) + tf.reduce_sum(masked_y_pred)\n",
        "    dice = (2.0 * intersection + smooth) / (union + smooth)\n",
        "    return dice\n",
        "\n",
        "# Calculate and print the Dice score for each test sample\n",
        "dice_scores = []\n",
        "for i in range(len(y_test)):\n",
        "    # Mask and threshold the ground truth\n",
        "    y_test_sample = y_test[i, :, :, 0]  # Extract and remove last dimension\n",
        "    thresholded_y_test = tf.cast(y_test_sample > 0, tf.float32)\n",
        "    masked_y_test = thresholded_y_test * circular_mask\n",
        "\n",
        "    # Mask and threshold the prediction\n",
        "    y_pred_sample = preds_test_t[i, :, :, 0]  # Extract and remove last dimension\n",
        "    thresholded_y_pred = tf.cast(y_pred_sample > 0, tf.float32)\n",
        "    masked_y_pred = thresholded_y_pred * circular_mask\n",
        "\n",
        "    # Calculate Dice score\n",
        "    dice = dice_score(masked_y_test, masked_y_pred)\n",
        "    dice_scores.append(dice.numpy())\n",
        "    print(f\"Dice Score for sample {i}: {dice.numpy()}\")\n",
        "\n",
        "# Optional: Print average Dice score across all test samples\n",
        "average_dice_score = np.mean(dice_scores)\n",
        "print(f\"Average Dice Score for all test samples: {average_dice_score}\")\n"
      ],
      "metadata": {
        "id": "0wnOenUA_q-J"
      },
      "execution_count": null,
      "outputs": []
    },
    {
      "cell_type": "markdown",
      "source": [
        "**Attention UNet**"
      ],
      "metadata": {
        "id": "q51xfXeYtPYI"
      }
    },
    {
      "cell_type": "code",
      "source": [
        "def gating_signal(input, out_size, batch_norm=False):\n",
        "    x = tf.keras.layers.Conv2D(out_size, (1, 1), padding='same')(input)\n",
        "    if batch_norm:\n",
        "        x = tf.keras.layers.BatchNormalization()(x)\n",
        "    x = tf.keras.layers.Activation('relu')(x)\n",
        "    return x"
      ],
      "metadata": {
        "id": "w0zhXpUD50ym"
      },
      "execution_count": null,
      "outputs": []
    },
    {
      "cell_type": "code",
      "source": [
        "def repeat_elem(tensor, rep):\n",
        "    # Lambda function to repeat elements of a tensor along an axis\n",
        "    # by a factor of rep.\n",
        "    # If tensor has shape (None, 256, 256, 3), lambda will return a tensor of shape\n",
        "    # (None, 256, 256, 6), if specified axis=3 and rep=2.\n",
        "\n",
        "    return tf.keras.layers.Lambda(lambda x: tf.repeat(x, rep, axis=3))(tensor)"
      ],
      "metadata": {
        "id": "w4n6TXX9XEhO"
      },
      "execution_count": null,
      "outputs": []
    },
    {
      "cell_type": "code",
      "source": [
        "def attention_block(x, gating, inter_shape):\n",
        "    shape_x = tf.keras.backend.int_shape(x)\n",
        "    shape_g = tf.keras.backend.int_shape(gating)\n",
        "\n",
        "    # Getting the x signal to the same shape as the gating signal\n",
        "    theta_x = tf.keras.layers.Conv2D(inter_shape, (2, 2), strides=(1, 1), padding='same')(x)\n",
        "    shape_theta_x = tf.keras.backend.int_shape(theta_x)\n",
        "\n",
        "    # Getting the gating signal to the same number of filters as the inter_shape\n",
        "    phi_g = tf.keras.layers.Conv2D(inter_shape, (1, 1), padding='same')(gating)\n",
        "    upsample_g = tf.keras.layers.Conv2DTranspose(inter_shape, (3, 3),\n",
        "                                                 strides=(shape_theta_x[1] // shape_g[1], shape_theta_x[2] // shape_g[2]),\n",
        "                                                 padding='same')(phi_g)\n",
        "\n",
        "    concat_xg = tf.keras.layers.add([upsample_g, theta_x])\n",
        "    act_xg = tf.keras.layers.Activation('relu')(concat_xg)\n",
        "    psi = tf.keras.layers.Conv2D(1, (1, 1), padding='same')(act_xg)\n",
        "    sigmoid_xg = tf.keras.layers.Activation('sigmoid')(psi)\n",
        "    shape_sigmoid = tf.keras.backend.int_shape(sigmoid_xg)\n",
        "    upsample_psi = tf.keras.layers.UpSampling2D(size=(shape_x[1] // shape_sigmoid[1], shape_x[2] // shape_sigmoid[2]))(sigmoid_xg)  # 32\n",
        "\n",
        "    upsample_psi = repeat_elem(upsample_psi, shape_x[3])\n",
        "\n",
        "    y = tf.keras.layers.multiply([upsample_psi, x])\n",
        "\n",
        "    result = tf.keras.layers.Conv2D(shape_x[3], (1, 1), padding='same')(y)\n",
        "    result_bn = tf.keras.layers.BatchNormalization()(result)\n",
        "    return result_bn"
      ],
      "metadata": {
        "id": "2VzIqVrm32gz"
      },
      "execution_count": null,
      "outputs": []
    },
    {
      "cell_type": "code",
      "source": [
        "import tensorflow as tf\n",
        "from tensorflow.keras.layers import Input, Lambda, Conv2D, BatchNormalization, Dropout, MaxPooling2D, Conv2DTranspose, concatenate\n",
        "from tensorflow.keras.models import Model\n",
        "\n",
        "\n",
        "seed = 42\n",
        "tf.random.set_seed(seed)\n",
        "\n",
        "IMG_WIDTH = 128\n",
        "IMG_HEIGHT = 128\n",
        "IMG_CHANNELS = 3\n",
        "\n",
        "# Build the UNet model\n",
        "inputs = Input((IMG_HEIGHT, IMG_WIDTH, IMG_CHANNELS))\n",
        "# s = Lambda(lambda x: x / 255)(inputs)\n",
        "s = Lambda(lambda x: x / 255.0)(inputs)\n",
        "\n",
        "\n",
        "# Contraction path\n",
        "c1 = Conv2D(16, (3, 3), activation='relu', kernel_initializer='he_normal', padding='same')(s)\n",
        "c1 = BatchNormalization()(c1)\n",
        "c1 = Dropout(0.1)(c1)\n",
        "c1 = Conv2D(16, (3, 3), activation='relu', kernel_initializer='he_normal', padding='same')(c1)\n",
        "p1 = MaxPooling2D((2, 2))(c1)"
      ],
      "metadata": {
        "id": "J8i4y2JXVeTf"
      },
      "execution_count": null,
      "outputs": []
    },
    {
      "cell_type": "code",
      "source": [
        "c2 = Conv2D(32, (3, 3), activation='relu', kernel_initializer='he_normal', padding='same')(p1)\n",
        "c2 = BatchNormalization()(c2)\n",
        "c2 = Dropout(0.1)(c2)\n",
        "c2 = Conv2D(32, (3, 3), activation='relu', kernel_initializer='he_normal', padding='same')(c2)\n",
        "p2 = MaxPooling2D((2, 2))(c2)"
      ],
      "metadata": {
        "id": "H41Kvxo1Vk0i"
      },
      "execution_count": null,
      "outputs": []
    },
    {
      "cell_type": "code",
      "source": [
        "c3 = Conv2D(64, (3, 3), activation='relu', kernel_initializer='he_normal', padding='same')(p2)\n",
        "c3 = BatchNormalization()(c3)\n",
        "c3 = Dropout(0.2)(c3)\n",
        "c3 = Conv2D(64, (3, 3), activation='relu', kernel_initializer='he_normal', padding='same')(c3)\n",
        "p3 = MaxPooling2D((2, 2))(c3)"
      ],
      "metadata": {
        "id": "CcuQ6S48VrS2"
      },
      "execution_count": null,
      "outputs": []
    },
    {
      "cell_type": "code",
      "source": [
        "c4 = Conv2D(128, (3, 3), activation='relu', kernel_initializer='he_normal', padding='same')(p3)\n",
        "c4 = BatchNormalization()(c4)\n",
        "c4 = Dropout(0.2)(c4)\n",
        "c4 = Conv2D(128, (3, 3), activation='relu', kernel_initializer='he_normal', padding='same')(c4)\n",
        "p4 = MaxPooling2D(pool_size=(2, 2))(c4)"
      ],
      "metadata": {
        "id": "NipnNxl0VyBX"
      },
      "execution_count": null,
      "outputs": []
    },
    {
      "cell_type": "code",
      "source": [
        "c5 = Conv2D(256, (3, 3), activation='relu', kernel_initializer='he_normal', padding='same')(p4)\n",
        "c5 = BatchNormalization()(c5)\n",
        "c5 = Dropout(0.3)(c5)\n",
        "c5 = Conv2D(256, (3, 3), activation='relu', kernel_initializer='he_normal', padding='same')(c5)\n"
      ],
      "metadata": {
        "id": "vENCvJ34V3UX"
      },
      "execution_count": null,
      "outputs": []
    },
    {
      "cell_type": "code",
      "source": [
        "# Expansive path\n",
        "u6 = Conv2DTranspose(128, (2, 2), strides=(2, 2), padding='same')(c5)\n",
        "u6 = concatenate([u6, c4])\n",
        "c6 = Conv2D(128, (3, 3), activation='relu', kernel_initializer='he_normal', padding='same')(u6)\n",
        "c6 = BatchNormalization()(c6)\n",
        "c6 = Dropout(0.2)(c6)\n",
        "c6 = Conv2D(128, (3, 3), activation='relu', kernel_initializer='he_normal', padding='same')(c6)\n"
      ],
      "metadata": {
        "id": "9swLIHELWA6f"
      },
      "execution_count": null,
      "outputs": []
    },
    {
      "cell_type": "code",
      "source": [
        "gating_4 = gating_signal(c6, 128)\n",
        "att_4 = attention_block(c4, gating_4, 128)"
      ],
      "metadata": {
        "id": "r91rEv1NYQBA"
      },
      "execution_count": null,
      "outputs": []
    },
    {
      "cell_type": "code",
      "source": [
        "from tensorflow.keras.layers import UpSampling2D\n",
        "\n",
        "u7 = Conv2DTranspose(64, (2, 2), strides=(2, 2), padding='same')(c6)\n",
        "att_4_upsampled = UpSampling2D(size=(2, 2))(att_4)  # Upsample the attention block\n",
        "u7 = concatenate([u7, att_4_upsampled, c3])\n",
        "c7 = Conv2D(64, (3, 3), activation='relu', kernel_initializer='he_normal', padding='same')(u7)\n",
        "c7 = BatchNormalization()(c7)\n",
        "c7 = Dropout(0.2)(c7)\n",
        "c7 = Conv2D(64, (3, 3), activation='relu', kernel_initializer='he_normal', padding='same')(c7)\n"
      ],
      "metadata": {
        "id": "kmpeiy6fY0go"
      },
      "execution_count": null,
      "outputs": []
    },
    {
      "cell_type": "code",
      "source": [
        "gating_3 = gating_signal(c7, 64)\n",
        "att_3 = attention_block(c3, gating_3, 64)"
      ],
      "metadata": {
        "id": "nbEma3a3ZGJ6"
      },
      "execution_count": null,
      "outputs": []
    },
    {
      "cell_type": "code",
      "source": [
        "u8 = Conv2DTranspose(32, (2, 2), strides=(2, 2), padding='same')(c7)\n",
        "att_3_upsampled = UpSampling2D(size=(2, 2))(att_3)  # Upsample the attention block\n",
        "u8 = concatenate([u8, att_3_upsampled, c2])"
      ],
      "metadata": {
        "id": "o1gzvGiBZThG"
      },
      "execution_count": null,
      "outputs": []
    },
    {
      "cell_type": "code",
      "source": [
        "c8 = Conv2D(32, (3, 3), activation='relu', kernel_initializer='he_normal', padding='same')(u8)\n",
        "c8 = BatchNormalization()(c8)\n",
        "c8 = Dropout(0.1)(c8)\n",
        "c8 = Conv2D(32, (3, 3), activation='relu', kernel_initializer='he_normal', padding='same')(c8)\n"
      ],
      "metadata": {
        "id": "8_RY2nu0ZiPX"
      },
      "execution_count": null,
      "outputs": []
    },
    {
      "cell_type": "code",
      "source": [
        "gating_2 = gating_signal(c8, 32)\n",
        "att_2 = attention_block(c2, gating_2, 32)\n",
        "\n",
        "u9 = Conv2DTranspose(16, (2, 2), strides=(2, 2), padding='same')(c8)\n",
        "att_2_upsampled = UpSampling2D(size=(2, 2))(att_2)  # Upsample the attention block\n",
        "u9 = concatenate([u9, att_2_upsampled, c1], axis=3)\n",
        "c9 = Conv2D(16, (3, 3), activation='relu', kernel_initializer='he_normal', padding='same')(u9)\n",
        "c9 = BatchNormalization()(c9)\n",
        "c9 = Dropout(0.1)(c9)\n",
        "c9 = Conv2D(16, (3, 3), activation='relu', kernel_initializer='he_normal', padding='same')(c9)\n"
      ],
      "metadata": {
        "id": "qWBD4KXmZtJQ"
      },
      "execution_count": null,
      "outputs": []
    },
    {
      "cell_type": "code",
      "source": [
        "outputs = Conv2D(1, (1, 1), activation='sigmoid')(c9)\n"
      ],
      "metadata": {
        "id": "xudmNepiZysG"
      },
      "execution_count": null,
      "outputs": []
    },
    {
      "cell_type": "markdown",
      "source": [
        "**DENSE UNet**"
      ],
      "metadata": {
        "id": "LVeaCH1YxGVf"
      }
    },
    {
      "cell_type": "code",
      "source": [
        "import tensorflow as tf\n",
        "from tensorflow.keras.layers import Input, Conv2D, BatchNormalization, Activation, MaxPooling2D, UpSampling2D, concatenate, Dropout\n",
        "from tensorflow.keras.models import Model\n",
        "\n",
        "seed = 42\n",
        "tf.random.set_seed(seed)\n",
        "\n",
        "IMG_WIDTH = 128\n",
        "IMG_HEIGHT = 128\n",
        "IMG_CHANNELS = 3\n",
        "\n",
        "# Build the ResNet U-Net model\n",
        "inputs = Input((IMG_HEIGHT, IMG_WIDTH, IMG_CHANNELS))\n",
        "s = Activation('linear')(inputs)  # You can change the activation function as needed\n",
        "\n",
        "# Contraction path\n",
        "conv1 = Conv2D(16, (3, 3), activation='relu', kernel_initializer='he_normal', padding='same')(s)\n",
        "c1 = BatchNormalization()(conv1)\n",
        "c1 = Activation('relu')(c1)\n",
        "c1 = Conv2D(16, (3, 3), activation='relu', kernel_initializer='he_normal', padding='same')(s)\n",
        "c1 = Dropout(0.2)(c1)\n",
        "c1 = concatenate([conv1, c1], axis=3)\n",
        "p1 = MaxPooling2D((2, 2))(c1)\n",
        "\n",
        "conv2 = Conv2D(32, (3, 3), activation='relu', kernel_initializer='he_normal', padding='same')(p1)\n",
        "c2 = BatchNormalization()(conv2)\n",
        "c2 = Activation('relu')(c2)\n",
        "c2 = Conv2D(32, (3, 3), activation='relu', kernel_initializer='he_normal', padding='same')(c2)\n",
        "c2 = Dropout(0.2)(c2)\n",
        "c2 = concatenate([conv2, c2], axis=3)\n",
        "p2 = MaxPooling2D((2, 2))(c2)\n",
        "\n",
        "conv3 = Conv2D(64, (3, 3), activation='relu', kernel_initializer='he_normal', padding='same')(p2)\n",
        "c3 = BatchNormalization()(conv3)\n",
        "c3 = Activation('relu')(c3)\n",
        "c3 = Conv2D(64, (3, 3), activation='relu', kernel_initializer='he_normal', padding='same')(c3)\n",
        "c3 = Dropout(0.2)(c3)\n",
        "c3 = concatenate([conv3, c3], axis=3)\n",
        "p3 = MaxPooling2D((2, 2))(c3)\n",
        "\n",
        "conv4 = Conv2D(128, (3, 3), activation='relu', kernel_initializer='he_normal', padding='same')(p3)\n",
        "c4 = BatchNormalization()(conv4)\n",
        "c4 = Activation('relu')(c4)\n",
        "c4 = Conv2D(128, (3, 3), activation='relu', kernel_initializer='he_normal', padding='same')(c4)\n",
        "c4 = Dropout(0.3)(c4)\n",
        "c4 = concatenate([conv4, c4], axis=3)\n",
        "c4 = Dropout(0.5)(c4)\n",
        "p4 = MaxPooling2D((2, 2))(c4)\n",
        "\n",
        "conv5 = Conv2D(256, (3, 3), activation='relu', kernel_initializer='he_normal', padding='same')(p4)\n",
        "c5 = BatchNormalization()(conv5)\n",
        "c5 = Activation('relu')(c5)\n",
        "c5 = Conv2D(256, (3, 3), activation='relu', kernel_initializer='he_normal', padding='same')(c5)\n",
        "c5 = Dropout(0.3)(c5)\n",
        "c5 = concatenate([conv5, c5], axis=3)\n",
        "c5 = Dropout(0.5)(c5)\n",
        "\n",
        "\n",
        "# Decoder\n",
        "u6 = Conv2D(128, 2, activation='relu', padding='same', kernel_initializer='he_normal')(UpSampling2D(size=(2, 2))(c5))\n",
        "u6 = concatenate([c4, u6], axis=3)\n",
        "conv6 = Conv2D(128, 3, activation='relu', padding='same', kernel_initializer='he_normal')(u6)\n",
        "u6 = BatchNormalization(axis=3)(conv6)\n",
        "u6 = Activation('relu')(u6)\n",
        "u6 = Conv2D(128, 3, activation='relu', padding='same', kernel_initializer='he_normal')(u6)\n",
        "u6 = Dropout(0)(u6)\n",
        "u6 = concatenate([conv6, u6], axis=3)\n",
        "\n",
        "u7 = Conv2D(64, 2, activation='relu', padding='same', kernel_initializer='he_normal')(UpSampling2D(size=(2, 2))(u6))\n",
        "u7 = concatenate([c3, u7], axis=3)\n",
        "conv7 = Conv2D(64, 3, activation='relu', padding='same', kernel_initializer='he_normal')(u7)\n",
        "u7 = BatchNormalization(axis=3)(conv7)\n",
        "u7 = Activation('relu')(u7)\n",
        "u7 = Conv2D(64, 3, activation='relu', padding='same', kernel_initializer='he_normal')(u7)\n",
        "u7 = Dropout(0)(u7)\n",
        "u7 = concatenate([conv7, u7], axis=3)\n",
        "\n",
        "u8 = Conv2D(32, 2, activation='relu', padding='same', kernel_initializer='he_normal')(UpSampling2D(size=(2, 2))(u7))\n",
        "u8 = concatenate([c2, u8], axis=3)\n",
        "conv8 = Conv2D(32, 3, activation='relu', padding='same', kernel_initializer='he_normal')(u8)\n",
        "u8 = BatchNormalization(axis=3)(conv8)\n",
        "u8 = Activation('relu')(u8)\n",
        "u8 = Conv2D(32, 3, activation='relu', padding='same', kernel_initializer='he_normal')(u8)\n",
        "u8 = Dropout(0)(u8)\n",
        "u8 = concatenate([conv8, u8], axis=3)\n",
        "\n",
        "u9 = Conv2D(16, 2, activation='relu', padding='same', kernel_initializer='he_normal')(UpSampling2D(size=(2, 2))(u8))\n",
        "u9 = concatenate([c1, u9], axis=3)\n",
        "conv9 = Conv2D(16, 3, activation='relu', padding='same', kernel_initializer='he_normal')(u9)\n",
        "u9 = BatchNormalization(axis=3)(conv9)\n",
        "u9 = Activation('relu')(u9)\n",
        "u9 = Conv2D(16, 3, activation='relu', padding='same', kernel_initializer='he_normal')(u9)\n",
        "u9 = Dropout(0)(u9)\n",
        "u9 = concatenate([conv9, u9], axis=3)\n",
        "\n",
        "conv9 = Conv2D(2, (1, 1), activation='sigmoid')(u9)\n",
        "\n",
        "outputs = Conv2D(1, (1, 1), activation='sigmoid')(conv9)\n",
        "\n",
        "# Create the model\n",
        "model = Model(inputs=inputs, outputs=outputs)\n",
        "\n"
      ],
      "metadata": {
        "id": "j-evh4XWYhJm"
      },
      "execution_count": null,
      "outputs": []
    },
    {
      "cell_type": "markdown",
      "source": [
        "**RESNet attention UNet**"
      ],
      "metadata": {
        "id": "D1MH0AMkybK1"
      }
    },
    {
      "cell_type": "code",
      "source": [
        "import tensorflow as tf\n",
        "from tensorflow.keras.layers import Input, Conv2D, BatchNormalization, Activation, Dropout, MaxPooling2D, UpSampling2D, concatenate\n",
        "from tensorflow.keras.models import Model\n"
      ],
      "metadata": {
        "id": "i9h7HOFoYAJ3"
      },
      "execution_count": null,
      "outputs": []
    },
    {
      "cell_type": "code",
      "source": [
        "def res_conv_block(x, filter_size, size, dropout, batch_norm=False):\n",
        "    conv = Conv2D(size, (filter_size, filter_size), padding='same')(x)\n",
        "    if batch_norm is True:\n",
        "        conv = BatchNormalization()(conv)\n",
        "    conv = Activation('relu')(conv)\n",
        "\n",
        "    conv = Conv2D(size, (filter_size, filter_size), padding='same')(conv)\n",
        "    if batch_norm is True:\n",
        "        conv = BatchNormalization()(conv)\n",
        "    if dropout > 0:\n",
        "        conv = Dropout(dropout)(conv)\n",
        "\n",
        "    shortcut = Conv2D(size, kernel_size=(1, 1), padding='same')(x)\n",
        "    if batch_norm is True:\n",
        "        shortcut = BatchNormalization()(shortcut)\n",
        "\n",
        "    res_path = concatenate([shortcut, conv])\n",
        "    res_path = Activation('relu')(res_path)\n",
        "    return res_path\n"
      ],
      "metadata": {
        "id": "m7BQdKOaEG_U"
      },
      "execution_count": null,
      "outputs": []
    },
    {
      "cell_type": "code",
      "source": [
        "def gating_signal(input, out_size, batch_norm=False):\n",
        "    x = tf.keras.layers.Conv2D(out_size, (1, 1), padding='same')(input)\n",
        "    if batch_norm:\n",
        "        x = tf.keras.layers.BatchNormalization()(x)\n",
        "    x = tf.keras.layers.Activation('relu')(x)\n",
        "    return x"
      ],
      "metadata": {
        "id": "36eRwLYByaCJ"
      },
      "execution_count": null,
      "outputs": []
    },
    {
      "cell_type": "code",
      "source": [
        "def repeat_elem(tensor, rep):\n",
        "    # Lambda function to repeat elements of a tensor along an axis\n",
        "    # by a factor of rep.\n",
        "    # If tensor has shape (None, 256, 256, 3), lambda will return a tensor of shape\n",
        "    # (None, 256, 256, 6), if specified axis=3 and rep=2.\n",
        "\n",
        "    return tf.keras.layers.Lambda(lambda x: tf.repeat(x, rep, axis=3))(tensor)"
      ],
      "metadata": {
        "id": "bfbwus-syaCJ"
      },
      "execution_count": null,
      "outputs": []
    },
    {
      "cell_type": "code",
      "source": [
        "def attention_block(x, gating, inter_shape):\n",
        "    shape_x = tf.keras.backend.int_shape(x)\n",
        "    shape_g = tf.keras.backend.int_shape(gating)\n",
        "\n",
        "    # Getting the x signal to the same shape as the gating signal\n",
        "    theta_x = tf.keras.layers.Conv2D(inter_shape, (2, 2), strides=(1, 1), padding='same')(x)\n",
        "    shape_theta_x = tf.keras.backend.int_shape(theta_x)\n",
        "\n",
        "    # Getting the gating signal to the same number of filters as the inter_shape\n",
        "    phi_g = tf.keras.layers.Conv2D(inter_shape, (1, 1), padding='same')(gating)\n",
        "    upsample_g = tf.keras.layers.Conv2DTranspose(inter_shape, (3, 3),\n",
        "                                                 strides=(shape_theta_x[1] // shape_g[1], shape_theta_x[2] // shape_g[2]),\n",
        "                                                 padding='same')(phi_g)\n",
        "\n",
        "    concat_xg = tf.keras.layers.add([upsample_g, theta_x])\n",
        "    act_xg = tf.keras.layers.Activation('relu')(concat_xg)\n",
        "    psi = tf.keras.layers.Conv2D(1, (1, 1), padding='same')(act_xg)\n",
        "    sigmoid_xg = tf.keras.layers.Activation('sigmoid')(psi)\n",
        "    shape_sigmoid = tf.keras.backend.int_shape(sigmoid_xg)\n",
        "    upsample_psi = tf.keras.layers.UpSampling2D(size=(shape_x[1] // shape_sigmoid[1], shape_x[2] // shape_sigmoid[2]))(sigmoid_xg)  # 32\n",
        "\n",
        "    upsample_psi = repeat_elem(upsample_psi, shape_x[3])\n",
        "\n",
        "    y = tf.keras.layers.multiply([upsample_psi, x])\n",
        "\n",
        "    result = tf.keras.layers.Conv2D(shape_x[3], (1, 1), padding='same')(y)\n",
        "    result_bn = tf.keras.layers.BatchNormalization()(result)\n",
        "    return result_bn"
      ],
      "metadata": {
        "id": "A9BP4Q5nyaCJ"
      },
      "execution_count": null,
      "outputs": []
    },
    {
      "cell_type": "code",
      "source": [
        "seed = 42\n",
        "tf.random.set_seed(seed)\n",
        "\n",
        "IMG_WIDTH = 128\n",
        "IMG_HEIGHT = 128\n",
        "IMG_CHANNELS = 3\n",
        "\n",
        "# Build the ResNet U-Net model\n",
        "inputs = Input((IMG_HEIGHT, IMG_WIDTH, IMG_CHANNELS))\n",
        "s = Activation('linear')(inputs)  # You can change the activation function as needed\n",
        "\n",
        "# Contraction path\n",
        "c1 = Conv2D(16, (3, 3), activation='relu', kernel_initializer='he_normal', padding='same')(s)\n",
        "c1 = BatchNormalization()(c1)\n",
        "c1 = Dropout(0.1)(c1)\n",
        "c1 = res_conv_block(c1, 3, 16, 0.1, True)\n",
        "p1 = MaxPooling2D((2, 2))(c1)\n",
        "\n",
        "c2 = res_conv_block(p1, 3, 32, 0.1, True)\n",
        "p2 = MaxPooling2D((2, 2))(c2)\n",
        "\n",
        "c3 = res_conv_block(p2, 3, 64, 0.2, True)\n",
        "p3 = MaxPooling2D((2, 2))(c3)\n",
        "\n",
        "c4 = res_conv_block(p3, 3, 128, 0.2, True)\n",
        "p4 = MaxPooling2D(pool_size=(2, 2))(c4)\n",
        "\n",
        "c5 = res_conv_block(p4, 3, 256, 0.3, True)\n",
        "\n",
        "# Expansive path\n",
        "u6 = Conv2DTranspose(128, (2, 2), strides=(2, 2), padding='same')(c5)\n",
        "u6 = concatenate([u6, c4])\n",
        "c6 = res_conv_block(u6, 3, 128, 0.2, True)\n",
        "\n",
        "gating_4 = gating_signal(c6, 128)\n",
        "att_4 = res_conv_block(c4, 3, 128, 0.1, True)\n",
        "\n",
        "u7 = Conv2DTranspose(64, (2, 2), strides=(2, 2), padding='same')(c6)\n",
        "att_4_upsampled = UpSampling2D(size=(2, 2))(att_4)\n",
        "u7 = concatenate([u7, att_4_upsampled, c3])\n",
        "c7 = res_conv_block(u7, 3, 64, 0.2, True)\n",
        "\n",
        "gating_3 = gating_signal(c7, 64)\n",
        "att_3 = res_conv_block(c3, 3, 64, 0.1, True)\n",
        "\n",
        "u8 = Conv2DTranspose(32, (2, 2), strides=(2, 2), padding='same')(c7)\n",
        "att_3_upsampled = UpSampling2D(size=(2, 2))(att_3)\n",
        "u8 = concatenate([u8, att_3_upsampled, c2])\n",
        "\n",
        "c8 = res_conv_block(u8, 3, 32, 0.1, True)\n",
        "\n",
        "gating_2 = gating_signal(c8, 32)\n",
        "att_2 = res_conv_block(c2, 3, 32, 0.1, True)\n",
        "\n",
        "u9 = Conv2DTranspose(16, (2, 2), strides=(2, 2), padding='same')(c8)\n",
        "att_2_upsampled = UpSampling2D(size=(2, 2))(att_2)\n",
        "u9 = concatenate([u9, att_2_upsampled, c1])\n",
        "\n",
        "c9 = res_conv_block(u9, 3, 16, 0.1, True)\n",
        "\n",
        "outputs = Conv2D(1, (1, 1), activation='sigmoid')(c9)\n",
        "\n",
        "# Create the model\n",
        "model = Model(inputs=inputs, outputs=outputs)"
      ],
      "metadata": {
        "id": "s8XQq7I6yaCJ"
      },
      "execution_count": null,
      "outputs": []
    },
    {
      "cell_type": "code",
      "execution_count": null,
      "metadata": {
        "id": "nIhzTtE8OOrX"
      },
      "outputs": [],
      "source": []
    }
  ],
  "metadata": {
    "colab": {
      "provenance": []
    },
    "kernelspec": {
      "display_name": "Python 3",
      "name": "python3"
    },
    "language_info": {
      "name": "python"
    }
  },
  "nbformat": 4,
  "nbformat_minor": 0
}